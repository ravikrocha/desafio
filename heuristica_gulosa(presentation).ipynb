{
 "cells": [
  {
   "cell_type": "markdown",
   "metadata": {},
   "source": [
    "### Desafio ENACOM"
   ]
  },
  {
   "cell_type": "markdown",
   "metadata": {},
   "source": [
    "##### Descrição do problema\n",
    "\n",
    "Considerando um capital para investimento de R$1.000.000 e as seguintes opções de investimento:\n",
    "\n",
    "|Opção| Custo do investimento   | Retorno esperado      | \n",
    "|:---:|      :----:             |       :---:           |\n",
    "|   1 | 470.000                 | 410.000               |\n",
    "|   2 | 400.000                 | 330.000               |\n",
    "|   3 | 170.000                 | 140.000               |\n",
    "|   4 | 270.000                 | 250.000               |\n",
    "|   5 | 340.000                 | 320.000               |\n",
    "|   6 | 230.000                 | 320.000               |\n",
    "|   7 |  50.000                 | 90.000                |\n",
    "|   8 | 440.000                 | 190.000               |\n",
    "\n",
    "\n",
    "Vamos desenvolver um algoritmo de otimização para selecionar os projetos que maximizam o retorno total esperado, considerando que:\n",
    "\n",
    "- Se o investimento 1 for selecionado, então o investimento 5 não deve ser;\n",
    "\n",
    "- Se o investimento 2 for selecionado, então o investimento 4 também deve ser."
   ]
  },
  {
   "cell_type": "markdown",
   "metadata": {},
   "source": [
    "##### Classe de dados"
   ]
  },
  {
   "cell_type": "code",
   "execution_count": 1,
   "metadata": {
    "id": "_9K2MPJaJhXl"
   },
   "outputs": [],
   "source": [
    "from typing import List\n",
    "import pandas as pd\n",
    "\n",
    "# Classe de dados\n",
    "\n",
    "from dataclasses import dataclass\n",
    "\n",
    "\n",
    "@dataclass\n",
    "class ValuableItem:\n",
    "    name: str\n",
    "    profit: float\n",
    "    cost: float\n",
    "\n",
    "    @property\n",
    "    def value_density(self):\n",
    "        return self.profit/(self.cost+1e-9)"
   ]
  },
  {
   "cell_type": "markdown",
   "metadata": {},
   "source": [
    "##### Métodos auxiliares"
   ]
  },
  {
   "cell_type": "code",
   "execution_count": 2,
   "metadata": {
    "id": "EuAoEqI3JpN2"
   },
   "outputs": [],
   "source": [
    "def items_to_table(items: List[ValuableItem]) -> pd.DataFrame:\n",
    "    records = [{\n",
    "        'Item': i.name,\n",
    "        'Lucro (R$)': i.profit,\n",
    "        'Custo (R$)': i.cost\n",
    "    } for i in items]\n",
    "    records.append({\n",
    "        'Item': 'Total',\n",
    "        'Lucro (R$)': sum(i.profit for i in items),\n",
    "        'Custo (R$)': sum(i.cost for i in items)\n",
    "    })\n",
    "    return pd.DataFrame.from_records(records)"
   ]
  },
  {
   "cell_type": "markdown",
   "metadata": {},
   "source": [
    "Entrada dos dados"
   ]
  },
  {
   "cell_type": "code",
   "execution_count": 3,
   "metadata": {
    "colab": {
     "base_uri": "https://localhost:8080/",
     "height": 332
    },
    "id": "OcrdgfilJpae",
    "outputId": "67e92e38-2bc1-4a63-e861-0bf4639501d9"
   },
   "outputs": [
    {
     "data": {
      "text/html": [
       "<div>\n",
       "<style scoped>\n",
       "    .dataframe tbody tr th:only-of-type {\n",
       "        vertical-align: middle;\n",
       "    }\n",
       "\n",
       "    .dataframe tbody tr th {\n",
       "        vertical-align: top;\n",
       "    }\n",
       "\n",
       "    .dataframe thead th {\n",
       "        text-align: right;\n",
       "    }\n",
       "</style>\n",
       "<table border=\"1\" class=\"dataframe\">\n",
       "  <thead>\n",
       "    <tr style=\"text-align: right;\">\n",
       "      <th></th>\n",
       "      <th>Item</th>\n",
       "      <th>Lucro (R$)</th>\n",
       "      <th>Custo (R$)</th>\n",
       "    </tr>\n",
       "  </thead>\n",
       "  <tbody>\n",
       "    <tr>\n",
       "      <th>0</th>\n",
       "      <td>Item 0</td>\n",
       "      <td>410000</td>\n",
       "      <td>470000</td>\n",
       "    </tr>\n",
       "    <tr>\n",
       "      <th>1</th>\n",
       "      <td>Item 1</td>\n",
       "      <td>330000</td>\n",
       "      <td>400000</td>\n",
       "    </tr>\n",
       "    <tr>\n",
       "      <th>2</th>\n",
       "      <td>Item 2</td>\n",
       "      <td>140000</td>\n",
       "      <td>170000</td>\n",
       "    </tr>\n",
       "    <tr>\n",
       "      <th>3</th>\n",
       "      <td>Item 3</td>\n",
       "      <td>250000</td>\n",
       "      <td>270000</td>\n",
       "    </tr>\n",
       "    <tr>\n",
       "      <th>4</th>\n",
       "      <td>Item 4</td>\n",
       "      <td>320000</td>\n",
       "      <td>340000</td>\n",
       "    </tr>\n",
       "    <tr>\n",
       "      <th>5</th>\n",
       "      <td>Item 5</td>\n",
       "      <td>320000</td>\n",
       "      <td>230000</td>\n",
       "    </tr>\n",
       "    <tr>\n",
       "      <th>6</th>\n",
       "      <td>Item 6</td>\n",
       "      <td>90000</td>\n",
       "      <td>50000</td>\n",
       "    </tr>\n",
       "    <tr>\n",
       "      <th>7</th>\n",
       "      <td>Item 7</td>\n",
       "      <td>190000</td>\n",
       "      <td>440000</td>\n",
       "    </tr>\n",
       "    <tr>\n",
       "      <th>8</th>\n",
       "      <td>Total</td>\n",
       "      <td>2050000</td>\n",
       "      <td>2370000</td>\n",
       "    </tr>\n",
       "  </tbody>\n",
       "</table>\n",
       "</div>"
      ],
      "text/plain": [
       "     Item  Lucro (R$)  Custo (R$)\n",
       "0  Item 0      410000      470000\n",
       "1  Item 1      330000      400000\n",
       "2  Item 2      140000      170000\n",
       "3  Item 3      250000      270000\n",
       "4  Item 4      320000      340000\n",
       "5  Item 5      320000      230000\n",
       "6  Item 6       90000       50000\n",
       "7  Item 7      190000      440000\n",
       "8   Total     2050000     2370000"
      ]
     },
     "execution_count": 3,
     "metadata": {},
     "output_type": "execute_result"
    }
   ],
   "source": [
    "max_cost = 1000000\n",
    "\n",
    "profits = [\n",
    "    410000, 330000, 140000, 250000, 320000, 320000, 90000, 190000\n",
    "]\n",
    "\n",
    "costs = [\n",
    "    470000, 400000, 170000, 270000, 340000, 230000, 50000, 440000\n",
    "]\n",
    "\n",
    "available_items = [ValuableItem(f'Item {i}', v, w)\n",
    "                   for i, (v, w) in enumerate(zip(profits, costs))]\n",
    "\n",
    "items_to_table(available_items)\n"
   ]
  },
  {
   "cell_type": "markdown",
   "metadata": {},
   "source": [
    "##### Heurística gulosa"
   ]
  },
  {
   "cell_type": "code",
   "execution_count": 4,
   "metadata": {
    "id": "lBxc30JNJpjb"
   },
   "outputs": [],
   "source": [
    "def greedy(max_cost, available_items):\n",
    "    chosen_items = []\n",
    "    sorted_items = sorted(\n",
    "        available_items,\n",
    "        key=lambda i: i.value_density,\n",
    "        reverse=True)\n",
    "    for item in sorted_items:\n",
    "        if item.cost <= max_cost:\n",
    "            chosen_items.append(item)\n",
    "            max_cost -= item.cost\n",
    "    return chosen_items"
   ]
  },
  {
   "cell_type": "code",
   "execution_count": 5,
   "metadata": {
    "id": "K7jmv4mbJp4n"
   },
   "outputs": [],
   "source": [
    "def dens_four_greater_two(available_items):\n",
    "    for item1 in available_items:\n",
    "        if item1.name == 'Item 3':\n",
    "            for item2 in available_items:\n",
    "                if item2.name == 'Item 1':\n",
    "                    if item1.value_density > item2.value_density:\n",
    "                        return True\n",
    "                    else:\n",
    "                        return False"
   ]
  },
  {
   "cell_type": "code",
   "execution_count": 6,
   "metadata": {
    "id": "vjnGQm_NJqCb"
   },
   "outputs": [],
   "source": [
    "def cost_ft_le_max(max_cost,available_items):\n",
    "    for item1 in available_items:\n",
    "        if item1.name == 'Item 3':\n",
    "            for item2 in available_items:\n",
    "                if item2.name == 'Item 1':\n",
    "                    if item1.cost + item2.cost <= max_cost:\n",
    "                        return True\n",
    "                    else:\n",
    "                        return False"
   ]
  },
  {
   "cell_type": "code",
   "execution_count": 7,
   "metadata": {
    "id": "sEGrZGF7slbl"
   },
   "outputs": [],
   "source": [
    "def greedy_with4(max_cost, available_items):\n",
    "  chosen_items = list(filter(lambda item: item.name == 'Item 3', available_items))\n",
    "  for item in chosen_items:\n",
    "    max_cost -= item.cost\n",
    "  sorted_items = sorted(\n",
    "        available_items,\n",
    "        key=lambda i: i.value_density,\n",
    "        reverse=True)\n",
    "  for item in sorted_items:\n",
    "        if item.cost <= max_cost:\n",
    "            chosen_items.append(item)\n",
    "            max_cost -= item.cost\n",
    "  return chosen_items\n"
   ]
  },
  {
   "cell_type": "code",
   "execution_count": 8,
   "metadata": {},
   "outputs": [],
   "source": [
    "def chosen_itens_contains_2(\n",
    "    max_cost: float, available_items: List[ValuableItem]\n",
    ") -> bool:\n",
    "    for item in greedy(max_cost, available_items):\n",
    "        if item.name == \"Item 1\":\n",
    "            return True\n",
    "    return False"
   ]
  },
  {
   "cell_type": "code",
   "execution_count": 9,
   "metadata": {},
   "outputs": [],
   "source": [
    "def chosen_itens_contains_4(\n",
    "    max_cost: float, available_items: List[ValuableItem]\n",
    ") -> bool:\n",
    "    for item in greedy(max_cost, available_items):\n",
    "        if item.name == \"Item 3\":\n",
    "            return True\n",
    "    return False"
   ]
  },
  {
   "cell_type": "code",
   "execution_count": 10,
   "metadata": {},
   "outputs": [],
   "source": [
    "def chosen_itens_contains_2_after_4(\n",
    "    max_cost: float, available_items: List[ValuableItem]\n",
    ") -> bool:\n",
    "    for item in greedy_with4(max_cost, available_items):\n",
    "        if item.name == \"Item 1\":\n",
    "            return True\n",
    "    return False"
   ]
  },
  {
   "cell_type": "code",
   "execution_count": 11,
   "metadata": {
    "id": "Vu6_gOJMJqLl"
   },
   "outputs": [],
   "source": [
    "def greedy_restriction2(\n",
    "    max_cost: float, available_items: List[ValuableItem]\n",
    ") -> List[ValuableItem]:\n",
    "    \"\"\"Resolve a segunda restrição.\n",
    "\n",
    "    Args:\n",
    "        max_cost (float): custo máximo.\n",
    "        available_items (List[ValuableItem]): retorna a lista já ordenada.\n",
    "\n",
    "    Returns:\n",
    "        List[ValuableItem]: retorna a lista já ordenada e com a restrição satisfeita.\n",
    "    \"\"\"\n",
    "    available_items_without2 = list(\n",
    "        filter(lambda item: item.name != \"Item 1\", available_items)\n",
    "    )  # remove o item 2 da lista\n",
    "    if chosen_itens_contains_2(max_cost, available_items):\n",
    "        if chosen_itens_contains_4(max_cost, available_items):\n",
    "            return greedy(max_cost, available_items)\n",
    "        else:\n",
    "            if sum(\n",
    "                item.profit for item in greedy(max_cost, available_items_without2)\n",
    "            ) >= sum(item.profit for item in greedy_with4(max_cost, available_items)):\n",
    "                return greedy(max_cost, available_items_without2)\n",
    "            else:\n",
    "                if chosen_itens_contains_2_after_4:\n",
    "                    return greedy_with4(max_cost, available_items)\n",
    "                else:\n",
    "                    return greedy(max_cost, available_items_without2)\n",
    "    else:\n",
    "        return greedy(max_cost, available_items)"
   ]
  },
  {
   "cell_type": "code",
   "execution_count": 12,
   "metadata": {
    "id": "EvNy0oaWJqVZ"
   },
   "outputs": [],
   "source": [
    "def greedy_knapsack(max_cost, available_items):\n",
    "    if available_items[0].value_density >= available_items[4].value_density:\n",
    "        return greedy_restriction2(max_cost, available_items[:4]+available_items[5:])\n",
    "    else:\n",
    "        return greedy_restriction2(max_cost, available_items[1:])"
   ]
  },
  {
   "cell_type": "code",
   "execution_count": 13,
   "metadata": {
    "id": "4gd-OzmRJqew"
   },
   "outputs": [
    {
     "data": {
      "text/html": [
       "<div>\n",
       "<style scoped>\n",
       "    .dataframe tbody tr th:only-of-type {\n",
       "        vertical-align: middle;\n",
       "    }\n",
       "\n",
       "    .dataframe tbody tr th {\n",
       "        vertical-align: top;\n",
       "    }\n",
       "\n",
       "    .dataframe thead th {\n",
       "        text-align: right;\n",
       "    }\n",
       "</style>\n",
       "<table border=\"1\" class=\"dataframe\">\n",
       "  <thead>\n",
       "    <tr style=\"text-align: right;\">\n",
       "      <th></th>\n",
       "      <th>Item</th>\n",
       "      <th>Lucro (R$)</th>\n",
       "      <th>Custo (R$)</th>\n",
       "    </tr>\n",
       "  </thead>\n",
       "  <tbody>\n",
       "    <tr>\n",
       "      <th>0</th>\n",
       "      <td>Item 6</td>\n",
       "      <td>90000</td>\n",
       "      <td>50000</td>\n",
       "    </tr>\n",
       "    <tr>\n",
       "      <th>1</th>\n",
       "      <td>Item 5</td>\n",
       "      <td>320000</td>\n",
       "      <td>230000</td>\n",
       "    </tr>\n",
       "    <tr>\n",
       "      <th>2</th>\n",
       "      <td>Item 4</td>\n",
       "      <td>320000</td>\n",
       "      <td>340000</td>\n",
       "    </tr>\n",
       "    <tr>\n",
       "      <th>3</th>\n",
       "      <td>Item 3</td>\n",
       "      <td>250000</td>\n",
       "      <td>270000</td>\n",
       "    </tr>\n",
       "    <tr>\n",
       "      <th>4</th>\n",
       "      <td>Total</td>\n",
       "      <td>980000</td>\n",
       "      <td>890000</td>\n",
       "    </tr>\n",
       "  </tbody>\n",
       "</table>\n",
       "</div>"
      ],
      "text/plain": [
       "     Item  Lucro (R$)  Custo (R$)\n",
       "0  Item 6       90000       50000\n",
       "1  Item 5      320000      230000\n",
       "2  Item 4      320000      340000\n",
       "3  Item 3      250000      270000\n",
       "4   Total      980000      890000"
      ]
     },
     "execution_count": 13,
     "metadata": {},
     "output_type": "execute_result"
    }
   ],
   "source": [
    "chosen_items = greedy_knapsack(max_cost, available_items)\n",
    "items_to_table(chosen_items)"
   ]
  },
  {
   "cell_type": "markdown",
   "metadata": {},
   "source": [
    "##### Modelagem"
   ]
  },
  {
   "cell_type": "markdown",
   "metadata": {},
   "source": [
    "**Parâmetros**:\n",
    "\n",
    "* $c$ - Escalar ($\\mathbb R$) representando o capital de investimento\n",
    "* $w$ - Vetor ($\\mathbb R^n$) representand o custo de cada investimento\n",
    "* $v$ - Vetor ($\\mathbb R^n$) representand o lucro de cada investimento\n",
    "\n",
    "**Variáveis de decisão**\n",
    "\n",
    "* $x$ - Vetor binário ($\\mathbb B^n$) indicando se o $n$-ésimo item foi escolhido ou não\n",
    "\n",
    "**Formulação do problema**:\n",
    "\n",
    "$$ \\max_x \\; v^Tx, \\text{where }\\ x\\in\\mathbb B $$\n",
    "$$ \\text{subject to: }$$ \n",
    "$$ w^Tx \\leq c $$\n",
    "$$ x_{1} = 1\\iff x_{5}=0 $$\n",
    "$$ x_{2} = 1\\implies x_{4}=1 $$\n"
   ]
  },
  {
   "cell_type": "code",
   "execution_count": 14,
   "metadata": {},
   "outputs": [
    {
     "name": "stdout",
     "output_type": "stream",
     "text": [
      "Requirement already satisfied: pyomo in /Users/ravik/opt/anaconda3/lib/python3.9/site-packages (6.4.1)\n",
      "Requirement already satisfied: ply in /Users/ravik/opt/anaconda3/lib/python3.9/site-packages (from pyomo) (3.11)\n",
      "The operation couldn’t be completed. Unable to locate a Java Runtime.\n",
      "Please visit http://www.java.com for information on installing Java.\n",
      "\n",
      "Requirement already satisfied: glpk in /Users/ravik/opt/anaconda3/lib/python3.9/site-packages (0.4.6)\n"
     ]
    }
   ],
   "source": [
    "!pip install pyomo\n",
    "!apt install glpk-utils\n",
    "!pip install glpk"
   ]
  },
  {
   "cell_type": "code",
   "execution_count": 15,
   "metadata": {},
   "outputs": [
    {
     "ename": "ModuleNotFoundError",
     "evalue": "No module named 'pyomo'",
     "output_type": "error",
     "traceback": [
      "\u001b[0;31m---------------------------------------------------------------------------\u001b[0m",
      "\u001b[0;31mModuleNotFoundError\u001b[0m                       Traceback (most recent call last)",
      "\u001b[1;32m/Users/ravik/Dropbox/Mac (2)/Desktop/desafio/heuristica_gulosa(presentation).ipynb Cell 23\u001b[0m in \u001b[0;36m<cell line: 1>\u001b[0;34m()\u001b[0m\n\u001b[0;32m----> <a href='vscode-notebook-cell:/Users/ravik/Dropbox/Mac%20%282%29/Desktop/desafio/heuristica_gulosa%28presentation%29.ipynb#X25sZmlsZQ%3D%3D?line=0'>1</a>\u001b[0m \u001b[39mimport\u001b[39;00m \u001b[39mpyomo\u001b[39;00m\u001b[39m.\u001b[39;00m\u001b[39menviron\u001b[39;00m \u001b[39mas\u001b[39;00m \u001b[39mpyo\u001b[39;00m\n\u001b[1;32m      <a href='vscode-notebook-cell:/Users/ravik/Dropbox/Mac%20%282%29/Desktop/desafio/heuristica_gulosa%28presentation%29.ipynb#X25sZmlsZQ%3D%3D?line=1'>2</a>\u001b[0m \u001b[39mfrom\u001b[39;00m \u001b[39mpyomo\u001b[39;00m\u001b[39m.\u001b[39;00m\u001b[39mopt\u001b[39;00m \u001b[39mimport\u001b[39;00m SolverFactory\n",
      "\u001b[0;31mModuleNotFoundError\u001b[0m: No module named 'pyomo'"
     ]
    }
   ],
   "source": [
    "import pyomo.environ as pyo\n",
    "from pyomo.opt import SolverFactory"
   ]
  },
  {
   "cell_type": "code",
   "execution_count": null,
   "metadata": {},
   "outputs": [],
   "source": [
    "from pyomo.core.expr.current import exp\n",
    "model = pyo.ConcreteModel()\n",
    "\n",
    "# Índices\n",
    "\n",
    "model.M = pyo.RangeSet(1,8)\n",
    "\n",
    "# Parâmetros\n",
    "\n",
    "u = {}\n",
    "u[1] = 410000\n",
    "u[2] = 330000\n",
    "u[3] = 140000\n",
    "u[4] = 250000\n",
    "u[5] = 320000\n",
    "u[6] = 320000\n",
    "u[7] = 90000\n",
    "u[8] = 190000\n",
    "model.p = pyo.Param(model.M, initialize=u)\n",
    "\n",
    "r = {}\n",
    "r[1] = 470000\n",
    "r[2] = 400000\n",
    "r[3] = 170000\n",
    "r[4] = 270000\n",
    "r[5] = 340000\n",
    "r[6] = 230000\n",
    "r[7] = 50000\n",
    "r[8] = 440000\n",
    "model.q = pyo.Param(model.M, initialize=r)\n",
    "\n",
    "# Variáveis de decisão\n",
    "\n",
    "model.x = pyo.Var(model.M, within=pyo.Binary)\n",
    "\n",
    "# Função objetiva\n",
    "\n",
    "model.obj_func = pyo.Objective(expr = sum(model.p[i]*model.x[i] for i in model.M), sense = pyo.maximize)\n",
    "\n",
    "# Restrições\n",
    "\n",
    "model.const_func1 = pyo.Constraint(expr = sum(model.q[i]*model.x[i] for i in model.M) <=1000000)\n",
    "model.const_func2 = pyo.Constraint(expr=model.x[1]+model.x[5]<=1)\n",
    "model.const_func3 = pyo.Constraint(expr=model.x[2]-2*model.x[4]<=0)\n",
    "\n",
    "# Resultados\n",
    "\n",
    "optm = SolverFactory('glpk')\n",
    "results = optm.solve(model)\n",
    "custo = sum(model.q[i]*pyo.value(model.x[i]) for i in model.M)\n",
    "print(\"Custo: \",custo)\n",
    "for i in model.M:\n",
    "  print(\"x[{}]={}\".format(i,pyo.value(model.x[i])))\n",
    "\n",
    "\n",
    "print('Lucro esperado: R${}'.format(pyo.value(model.obj_func)))"
   ]
  }
 ],
 "metadata": {
  "colab": {
   "collapsed_sections": [],
   "name": "gulosa2.ipynb",
   "provenance": []
  },
  "kernelspec": {
   "display_name": "Python 3 (ipykernel)",
   "language": "python",
   "name": "python3"
  },
  "language_info": {
   "codemirror_mode": {
    "name": "ipython",
    "version": 3
   },
   "file_extension": ".py",
   "mimetype": "text/x-python",
   "name": "python",
   "nbconvert_exporter": "python",
   "pygments_lexer": "ipython3",
   "version": "3.10.2"
  },
  "vscode": {
   "interpreter": {
    "hash": "aee8b7b246df8f9039afb4144a1f6fd8d2ca17a180786b69acc140d282b71a49"
   }
  }
 },
 "nbformat": 4,
 "nbformat_minor": 1
}
